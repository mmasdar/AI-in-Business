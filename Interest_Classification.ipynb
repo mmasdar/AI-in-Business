{
  "nbformat": 4,
  "nbformat_minor": 0,
  "metadata": {
    "kernelspec": {
      "display_name": "Python 3",
      "language": "python",
      "name": "python3"
    },
    "language_info": {
      "codemirror_mode": {
        "name": "ipython",
        "version": 3
      },
      "file_extension": ".py",
      "mimetype": "text/x-python",
      "name": "python",
      "nbconvert_exporter": "python",
      "pygments_lexer": "ipython3",
      "version": "3.7.3"
    },
    "colab": {
      "name": "Interest Classification.ipynb",
      "provenance": [],
      "collapsed_sections": []
    }
  },
  "cells": [
    {
      "cell_type": "code",
      "metadata": {
        "id": "S8DcOVxwv3zT",
        "colab_type": "code",
        "outputId": "95f43c98-cbc2-4eb1-82b1-9a3d34cb290c",
        "colab": {
          "base_uri": "https://localhost:8080/",
          "height": 34
        }
      },
      "source": [
        "print(\"Machine Learning for Interest Classification System based Decision Tree Method\")"
      ],
      "execution_count": 0,
      "outputs": [
        {
          "output_type": "stream",
          "text": [
            "Machine Learning for Interest Classification System based Decision Tree Method\n"
          ],
          "name": "stdout"
        }
      ]
    },
    {
      "cell_type": "markdown",
      "metadata": {
        "id": "AD-KZyZY08LK",
        "colab_type": "text"
      },
      "source": [
        "![teks alternatif](https://lh3.googleusercontent.com/proxy/9U_YkXMDA8f9ygwX4hGiOMbXWNEuhXX1HMtwMdfjWh4JgKJfaqLbsfqe7MHeJmwIoJ9w86EFdnAwunq3tzkB0vrNoo5q35l06xeKHhbIA_wGp_9RoqhrQNGB5yyLOoTR1J5R8Tn34Lqen35ISd6b4zHZwTNAJg)\n",
        "\n",
        "from : Getwallpapers.com"
      ]
    },
    {
      "cell_type": "code",
      "metadata": {
        "id": "N6cpiGiXv3zh",
        "colab_type": "code",
        "colab": {}
      },
      "source": [
        "from sklearn import tree"
      ],
      "execution_count": 0,
      "outputs": []
    },
    {
      "cell_type": "code",
      "metadata": {
        "id": "02WGQcy3v3zp",
        "colab_type": "code",
        "colab": {}
      },
      "source": [
        "#Data training untuk Machine Learning\n",
        "\n",
        "a = [\n",
        "        [4,2,1,2,2],\n",
        "        [1,1,4,1,1],\n",
        "        [3,1,2,2,3],\n",
        "        [4,1,4,1,5],\n",
        "        [4,3,3,1,6],\n",
        "        [4,1,3,1,1],\n",
        "        [4,3,3,1,7],\n",
        "        [4,1,1,1,3],\n",
        "        [4,1,2,1,6],\n",
        "        [3,1,1,1,6],\n",
        "        [2,1,1,1,7],\n",
        "        [3,1,1,1,3],\n",
        "        [2,1,1,1,6],\n",
        "        [3,1,1,2,4],\n",
        "        [3,2,1,2,7],\n",
        "        [4,1,1,2,2],\n",
        "        [2,2,1,2,3],\n",
        "        [4,2,1,1,7],\n",
        "        [3,3,1,1,3],\n",
        "        [1,1,2,1,3]\n",
        "    ]\n",
        "\n",
        "\n",
        "b = [\n",
        "     'politik',\n",
        "     'sains dan budaya',\n",
        "     'sains',\n",
        "     'sains',\n",
        "     'Budaya',\n",
        "     'sains',\n",
        "     'Budaya',\n",
        "     'politik dan budaya',\n",
        "     'sains',\n",
        "     'budaya',\n",
        "     'politik',\n",
        "     'sains dan budaya',\n",
        "     'sains',\n",
        "     'politik',\n",
        "     'budaya',\n",
        "     'politik',\n",
        "     'sains',\n",
        "     'politik',\n",
        "     'budaya',\n",
        "     'sains' \n",
        "    ]"
      ],
      "execution_count": 0,
      "outputs": []
    },
    {
      "cell_type": "code",
      "metadata": {
        "id": "2CGCffTVv3zv",
        "colab_type": "code",
        "colab": {}
      },
      "source": [
        "clf = tree.DecisionTreeClassifier()\n",
        "\n",
        "clf = clf.fit(a,b)"
      ],
      "execution_count": 0,
      "outputs": []
    },
    {
      "cell_type": "markdown",
      "metadata": {
        "id": "14K5-Ufsv3z1",
        "colab_type": "text"
      },
      "source": [
        "##Prediksi minat konsumen dengan parameter :\n",
        "\n",
        "1. Semester 1 kuliah (maba)\n",
        "2. Jurusan Fisika\n",
        "3. Aktif di dunia riset ilmiah\n",
        "4. berasal dari daerah kabupaten Malang\n",
        "5. senang membaca buku sejarah"
      ]
    },
    {
      "cell_type": "code",
      "metadata": {
        "id": "ANzln_RUv3z3",
        "colab_type": "code",
        "outputId": "928b7f9a-a31d-4dc4-b07f-6f4a9de45ccd",
        "colab": {
          "base_uri": "https://localhost:8080/",
          "height": 34
        }
      },
      "source": [
        "prediksi = clf.predict([[2,1,4,1,2]])\n",
        "print (\"Subjek ini memiliki minat terhadap : \", prediksi)"
      ],
      "execution_count": 0,
      "outputs": [
        {
          "output_type": "stream",
          "text": [
            "Subjek ini memiliki minat terhadap :  ['sains dan budaya']\n"
          ],
          "name": "stdout"
        }
      ]
    },
    {
      "cell_type": "markdown",
      "metadata": {
        "id": "1ic3BWVWv3z-",
        "colab_type": "text"
      },
      "source": [
        "Didapatkan kesimpulan bahwa konsumen tersebut lebih berminat dengan \"sains dan budaya\" daripada politik"
      ]
    }
  ]
}