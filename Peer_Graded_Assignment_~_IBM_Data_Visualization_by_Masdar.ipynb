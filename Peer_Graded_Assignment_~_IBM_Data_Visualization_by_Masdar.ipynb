{
  "nbformat": 4,
  "nbformat_minor": 0,
  "metadata": {
    "colab": {
      "name": "Peer-Graded Assignment ~ IBM Data Visualization by Masdar",
      "provenance": [],
      "collapsed_sections": [],
      "authorship_tag": "ABX9TyNVdAIvC9VqLJXMIGz9VY08",
      "include_colab_link": true
    },
    "kernelspec": {
      "name": "python3",
      "display_name": "Python 3"
    }
  },
  "cells": [
    {
      "cell_type": "markdown",
      "metadata": {
        "id": "view-in-github",
        "colab_type": "text"
      },
      "source": [
        "<a href=\"https://colab.research.google.com/github/mmasdar/AI-in-Business/blob/master/Peer_Graded_Assignment_~_IBM_Data_Visualization_by_Masdar.ipynb\" target=\"_parent\"><img src=\"https://colab.research.google.com/assets/colab-badge.svg\" alt=\"Open In Colab\"/></a>"
      ]
    },
    {
      "cell_type": "markdown",
      "metadata": {
        "id": "h8RagXLHYZ0j",
        "colab_type": "text"
      },
      "source": [
        ""
      ]
    },
    {
      "cell_type": "code",
      "metadata": {
        "id": "IrmXXcFOf1Q2",
        "colab_type": "code",
        "colab": {}
      },
      "source": [
        "import pandas as pd\n",
        "import numpy as np\n",
        "import matplotlib as mpl\n",
        "import matplotlib.pyplot as plt\n",
        "import folium"
      ],
      "execution_count": 0,
      "outputs": []
    },
    {
      "cell_type": "markdown",
      "metadata": {
        "id": "NuZ0aA7tiKU7",
        "colab_type": "text"
      },
      "source": [
        "Import File dataset (csv)"
      ]
    },
    {
      "cell_type": "code",
      "metadata": {
        "id": "MCF2FYx2iMq0",
        "colab_type": "code",
        "colab": {}
      },
      "source": [
        "from google.colab import files\n",
        "uploaded = files.upload()"
      ],
      "execution_count": 0,
      "outputs": []
    },
    {
      "cell_type": "code",
      "metadata": {
        "id": "_42X77BoiYNL",
        "colab_type": "code",
        "colab": {}
      },
      "source": [
        "import io\n",
        "\n",
        "Police = pd.read_csv(io.BytesIO(uploaded['Police_Department_Incidents_-_Previous_Year__2016_.csv']))\n",
        "Data_science = pd.read_csv(io.BytesIO(uploaded['Topic_Survey_Assignment.csv']))"
      ],
      "execution_count": 0,
      "outputs": []
    },
    {
      "cell_type": "code",
      "metadata": {
        "id": "UYzBLAK-pgtd",
        "colab_type": "code",
        "colab": {}
      },
      "source": [
        "Data_science = pd.read_csv(\"/content/Topic_Survey_Assignment.csv\", index_col=0)\n",
        "Police = pd.read_csv(\"/content/Police_Department_Incidents_-_Previous_Year__2016_.csv\")"
      ],
      "execution_count": 0,
      "outputs": []
    },
    {
      "cell_type": "code",
      "metadata": {
        "id": "wHepgcZXqKwh",
        "colab_type": "code",
        "outputId": "8c12bdb6-9e8b-40ce-839b-f26fdd1f3f41",
        "colab": {
          "base_uri": "https://localhost:8080/",
          "height": 228
        }
      },
      "source": [
        "Data_science"
      ],
      "execution_count": 0,
      "outputs": [
        {
          "output_type": "execute_result",
          "data": {
            "text/html": [
              "<div>\n",
              "<style scoped>\n",
              "    .dataframe tbody tr th:only-of-type {\n",
              "        vertical-align: middle;\n",
              "    }\n",
              "\n",
              "    .dataframe tbody tr th {\n",
              "        vertical-align: top;\n",
              "    }\n",
              "\n",
              "    .dataframe thead th {\n",
              "        text-align: right;\n",
              "    }\n",
              "</style>\n",
              "<table border=\"1\" class=\"dataframe\">\n",
              "  <thead>\n",
              "    <tr style=\"text-align: right;\">\n",
              "      <th></th>\n",
              "      <th>Unnamed: 0</th>\n",
              "      <th>Very interested</th>\n",
              "      <th>Somewhat interested</th>\n",
              "      <th>Not interested</th>\n",
              "    </tr>\n",
              "  </thead>\n",
              "  <tbody>\n",
              "    <tr>\n",
              "      <th>1</th>\n",
              "      <td>Data Analysis / Statistics</td>\n",
              "      <td>1688</td>\n",
              "      <td>444</td>\n",
              "      <td>60</td>\n",
              "    </tr>\n",
              "    <tr>\n",
              "      <th>5</th>\n",
              "      <td>Machine Learning</td>\n",
              "      <td>1629</td>\n",
              "      <td>477</td>\n",
              "      <td>74</td>\n",
              "    </tr>\n",
              "    <tr>\n",
              "      <th>3</th>\n",
              "      <td>Data Visualization</td>\n",
              "      <td>1340</td>\n",
              "      <td>734</td>\n",
              "      <td>102</td>\n",
              "    </tr>\n",
              "    <tr>\n",
              "      <th>0</th>\n",
              "      <td>Big Data (Spark / Hadoop)</td>\n",
              "      <td>1332</td>\n",
              "      <td>729</td>\n",
              "      <td>127</td>\n",
              "    </tr>\n",
              "    <tr>\n",
              "      <th>4</th>\n",
              "      <td>Deep Learning</td>\n",
              "      <td>1263</td>\n",
              "      <td>770</td>\n",
              "      <td>136</td>\n",
              "    </tr>\n",
              "    <tr>\n",
              "      <th>2</th>\n",
              "      <td>Data Journalism</td>\n",
              "      <td>429</td>\n",
              "      <td>1081</td>\n",
              "      <td>610</td>\n",
              "    </tr>\n",
              "  </tbody>\n",
              "</table>\n",
              "</div>"
            ],
            "text/plain": [
              "                   Unnamed: 0  ...  Not interested\n",
              "1  Data Analysis / Statistics  ...              60\n",
              "5            Machine Learning  ...              74\n",
              "3          Data Visualization  ...             102\n",
              "0   Big Data (Spark / Hadoop)  ...             127\n",
              "4               Deep Learning  ...             136\n",
              "2             Data Journalism  ...             610\n",
              "\n",
              "[6 rows x 4 columns]"
            ]
          },
          "metadata": {
            "tags": []
          },
          "execution_count": 16
        }
      ]
    },
    {
      "cell_type": "code",
      "metadata": {
        "id": "dXFqENdReU6b",
        "colab_type": "code",
        "outputId": "406f7bab-5d4a-4355-beca-f82bb82955fd",
        "colab": {
          "base_uri": "https://localhost:8080/",
          "height": 615
        }
      },
      "source": [
        "import matplotlib as mpl\n",
        "import matplotlib.pyplot as plt\n",
        "import numpy as np\n",
        "import matplotlib.patches as patches\n",
        "\n",
        "mpl.style.use('ggplot') # optional: for ggplot-like style\n",
        "df_data1 = pd.read_csv('https://cocl.us/datascience_survey_data',index_col = 0)\n",
        "df_data1.isnull().sum()\n",
        "df_data1.sort_values(by='Very interested', ascending=False, inplace=True)\n",
        "df_data2=(100. * (df_data1 / 2233.0)).round(2)\n",
        "\n",
        "ax = df_data2.plot(kind='bar', figsize=(20, 8), width = 0.8, color=['#5cb85c','#5bc0de','#d9534f'])\n",
        "\n",
        "ax.set_title(\"Percentage of Respondent's Interest in Data Science\" , fontsize=16)\n",
        "ax.legend(fontsize=14)\n",
        "ax.get_yaxis().set_visible(False)\n",
        "ax.spines['top'].set_visible(False)\n",
        "ax.spines['right'].set_visible(False)\n",
        "ax.spines['left'].set_visible(False)\n",
        "\n"
      ],
      "execution_count": 0,
      "outputs": [
        {
          "output_type": "display_data",
          "data": {
            "image/png": "[encoded data removed]",
            "text/plain": [
              "<Figure size 1440x576 with 1 Axes>"
            ]
          },
          "metadata": {
            "tags": []
          }
        }
      ]
    },
    {
      "cell_type": "code",
      "metadata": {
        "id": "4HyhxjiSg_xx",
        "colab_type": "code",
        "colab": {}
      },
      "source": [
        "polisi = pd.read_csv('https://cocl.us/sanfran_crime_dataset', index_col=0)"
      ],
      "execution_count": 0,
      "outputs": []
    },
    {
      "cell_type": "code",
      "metadata": {
        "id": "m6BdS3RokOmA",
        "colab_type": "code",
        "outputId": "1e94b8a6-8ca1-4410-cd62-b33dd0aa4e5d",
        "colab": {
          "base_uri": "https://localhost:8080/",
          "height": 672
        }
      },
      "source": [
        "polisi[polisi.Category == 'NON-CRIMINAL'].Descript.value_counts()"
      ],
      "execution_count": 0,
      "outputs": [
        {
          "output_type": "execute_result",
          "data": {
            "text/plain": [
              "LOST PROPERTY                                         4596\n",
              "AIDED CASE, MENTAL DISTURBED                          4566\n",
              "FOUND PROPERTY                                        3088\n",
              "AIDED CASE                                            1118\n",
              "DEATH REPORT, CAUSE UNKNOWN                            704\n",
              "CASE CLOSURE                                           420\n",
              "AIDED CASE -PROPERTY FOR DESTRUCTION                   390\n",
              "STAY AWAY OR COURT ORDER, NON-DV RELATED               365\n",
              "LICENSE PLATE, RECOVERED                               312\n",
              "SEARCH WARRANT SERVICE                                 294\n",
              "COURTESY REPORT                                        260\n",
              "AIDED CASE, DOG BITE                                   254\n",
              "AIDED CASE, INJURED PERSON                             227\n",
              "CIVIL SIDEWALKS, CITATION                              200\n",
              "CIVIL SIDEWALKS, WARNING                               152\n",
              "FIRE REPORT                                            146\n",
              "PROPERTY FOR IDENTIFICATION                            125\n",
              "TRAFFIC ACCIDENT                                       114\n",
              "DEATH REPORT, NATURAL CAUSES                           107\n",
              "TARASOFF REPORT                                         90\n",
              "TURNED IN GUN                                           87\n",
              "LOCATED PROPERTY                                        69\n",
              "LICENSE PLATE, FOUND                                    53\n",
              "IMPOUNDED VEHICLE                                       47\n",
              "CIVIL SIDEWALKS, BOOKING                                19\n",
              "AIDED CASE, SICK PERSON                                 15\n",
              "SHELTER                                                 15\n",
              "CIVIL SIDEWALKS, VIOLATION                              15\n",
              "TRUANT, HABITUAL                                         5\n",
              "AUTO IMPOUNDED                                           4\n",
              "DEATH, ACCIDENTAL                                        2\n",
              "DEMONSTRATION, VIDEO EVIDENCE, MISC. INVESTIGATION       2\n",
              "DEATH REPORT, IN CUSTODY                                 2\n",
              "MISPLACED VEHICLE                                        2\n",
              "DEATH, NON-MANSLAUGHTER AUTO ACCIDENT                    1\n",
              "Name: Descript, dtype: int64"
            ]
          },
          "metadata": {
            "tags": []
          },
          "execution_count": 71
        }
      ]
    },
    {
      "cell_type": "code",
      "metadata": {
        "id": "X6H9f4islO7f",
        "colab_type": "code",
        "outputId": "99cb0552-9aa5-4682-c860-0af7bdeca913",
        "colab": {
          "base_uri": "https://localhost:8080/",
          "height": 378
        }
      },
      "source": [
        "polisi.rename(columns={'PdDistrict':'Neighborhood'}, inplace=True)\n",
        "polisi.groupby('Neighborhood').count()\n",
        "#polisi.sort_values(by = 'Category')"
      ],
      "execution_count": 0,
      "outputs": [
        {
          "output_type": "execute_result",
          "data": {
            "text/html": [
              "<div>\n",
              "<style scoped>\n",
              "    .dataframe tbody tr th:only-of-type {\n",
              "        vertical-align: middle;\n",
              "    }\n",
              "\n",
              "    .dataframe tbody tr th {\n",
              "        vertical-align: top;\n",
              "    }\n",
              "\n",
              "    .dataframe thead th {\n",
              "        text-align: right;\n",
              "    }\n",
              "</style>\n",
              "<table border=\"1\" class=\"dataframe\">\n",
              "  <thead>\n",
              "    <tr style=\"text-align: right;\">\n",
              "      <th></th>\n",
              "      <th>Category</th>\n",
              "      <th>Descript</th>\n",
              "      <th>DayOfWeek</th>\n",
              "      <th>Date</th>\n",
              "      <th>Time</th>\n",
              "      <th>Resolution</th>\n",
              "      <th>Address</th>\n",
              "      <th>X</th>\n",
              "      <th>Y</th>\n",
              "      <th>Location</th>\n",
              "      <th>PdId</th>\n",
              "    </tr>\n",
              "    <tr>\n",
              "      <th>Neighborhood</th>\n",
              "      <th></th>\n",
              "      <th></th>\n",
              "      <th></th>\n",
              "      <th></th>\n",
              "      <th></th>\n",
              "      <th></th>\n",
              "      <th></th>\n",
              "      <th></th>\n",
              "      <th></th>\n",
              "      <th></th>\n",
              "      <th></th>\n",
              "    </tr>\n",
              "  </thead>\n",
              "  <tbody>\n",
              "    <tr>\n",
              "      <th>BAYVIEW</th>\n",
              "      <td>14303</td>\n",
              "      <td>14303</td>\n",
              "      <td>14303</td>\n",
              "      <td>14303</td>\n",
              "      <td>14303</td>\n",
              "      <td>14303</td>\n",
              "      <td>14303</td>\n",
              "      <td>14303</td>\n",
              "      <td>14303</td>\n",
              "      <td>14303</td>\n",
              "      <td>14303</td>\n",
              "    </tr>\n",
              "    <tr>\n",
              "      <th>CENTRAL</th>\n",
              "      <td>17666</td>\n",
              "      <td>17666</td>\n",
              "      <td>17666</td>\n",
              "      <td>17666</td>\n",
              "      <td>17666</td>\n",
              "      <td>17666</td>\n",
              "      <td>17666</td>\n",
              "      <td>17666</td>\n",
              "      <td>17666</td>\n",
              "      <td>17666</td>\n",
              "      <td>17666</td>\n",
              "    </tr>\n",
              "    <tr>\n",
              "      <th>INGLESIDE</th>\n",
              "      <td>11594</td>\n",
              "      <td>11594</td>\n",
              "      <td>11594</td>\n",
              "      <td>11594</td>\n",
              "      <td>11594</td>\n",
              "      <td>11594</td>\n",
              "      <td>11594</td>\n",
              "      <td>11594</td>\n",
              "      <td>11594</td>\n",
              "      <td>11594</td>\n",
              "      <td>11594</td>\n",
              "    </tr>\n",
              "    <tr>\n",
              "      <th>MISSION</th>\n",
              "      <td>19503</td>\n",
              "      <td>19503</td>\n",
              "      <td>19503</td>\n",
              "      <td>19503</td>\n",
              "      <td>19503</td>\n",
              "      <td>19503</td>\n",
              "      <td>19503</td>\n",
              "      <td>19503</td>\n",
              "      <td>19503</td>\n",
              "      <td>19503</td>\n",
              "      <td>19503</td>\n",
              "    </tr>\n",
              "    <tr>\n",
              "      <th>NORTHERN</th>\n",
              "      <td>20100</td>\n",
              "      <td>20100</td>\n",
              "      <td>20100</td>\n",
              "      <td>20100</td>\n",
              "      <td>20100</td>\n",
              "      <td>20100</td>\n",
              "      <td>20100</td>\n",
              "      <td>20100</td>\n",
              "      <td>20100</td>\n",
              "      <td>20100</td>\n",
              "      <td>20100</td>\n",
              "    </tr>\n",
              "    <tr>\n",
              "      <th>PARK</th>\n",
              "      <td>8699</td>\n",
              "      <td>8699</td>\n",
              "      <td>8699</td>\n",
              "      <td>8699</td>\n",
              "      <td>8699</td>\n",
              "      <td>8699</td>\n",
              "      <td>8699</td>\n",
              "      <td>8699</td>\n",
              "      <td>8699</td>\n",
              "      <td>8699</td>\n",
              "      <td>8699</td>\n",
              "    </tr>\n",
              "    <tr>\n",
              "      <th>RICHMOND</th>\n",
              "      <td>8922</td>\n",
              "      <td>8922</td>\n",
              "      <td>8922</td>\n",
              "      <td>8922</td>\n",
              "      <td>8922</td>\n",
              "      <td>8922</td>\n",
              "      <td>8922</td>\n",
              "      <td>8922</td>\n",
              "      <td>8922</td>\n",
              "      <td>8922</td>\n",
              "      <td>8922</td>\n",
              "    </tr>\n",
              "    <tr>\n",
              "      <th>SOUTHERN</th>\n",
              "      <td>28445</td>\n",
              "      <td>28445</td>\n",
              "      <td>28445</td>\n",
              "      <td>28445</td>\n",
              "      <td>28445</td>\n",
              "      <td>28445</td>\n",
              "      <td>28445</td>\n",
              "      <td>28445</td>\n",
              "      <td>28445</td>\n",
              "      <td>28445</td>\n",
              "      <td>28445</td>\n",
              "    </tr>\n",
              "    <tr>\n",
              "      <th>TARAVAL</th>\n",
              "      <td>11325</td>\n",
              "      <td>11325</td>\n",
              "      <td>11325</td>\n",
              "      <td>11325</td>\n",
              "      <td>11325</td>\n",
              "      <td>11325</td>\n",
              "      <td>11325</td>\n",
              "      <td>11325</td>\n",
              "      <td>11325</td>\n",
              "      <td>11325</td>\n",
              "      <td>11325</td>\n",
              "    </tr>\n",
              "    <tr>\n",
              "      <th>TENDERLOIN</th>\n",
              "      <td>9942</td>\n",
              "      <td>9942</td>\n",
              "      <td>9942</td>\n",
              "      <td>9942</td>\n",
              "      <td>9942</td>\n",
              "      <td>9942</td>\n",
              "      <td>9942</td>\n",
              "      <td>9942</td>\n",
              "      <td>9942</td>\n",
              "      <td>9942</td>\n",
              "      <td>9942</td>\n",
              "    </tr>\n",
              "  </tbody>\n",
              "</table>\n",
              "</div>"
            ],
            "text/plain": [
              "              Category  Descript  DayOfWeek  ...      Y  Location   PdId\n",
              "Neighborhood                                 ...                        \n",
              "BAYVIEW          14303     14303      14303  ...  14303     14303  14303\n",
              "CENTRAL          17666     17666      17666  ...  17666     17666  17666\n",
              "INGLESIDE        11594     11594      11594  ...  11594     11594  11594\n",
              "MISSION          19503     19503      19503  ...  19503     19503  19503\n",
              "NORTHERN         20100     20100      20100  ...  20100     20100  20100\n",
              "PARK              8699      8699       8699  ...   8699      8699   8699\n",
              "RICHMOND          8922      8922       8922  ...   8922      8922   8922\n",
              "SOUTHERN         28445     28445      28445  ...  28445     28445  28445\n",
              "TARAVAL          11325     11325      11325  ...  11325     11325  11325\n",
              "TENDERLOIN        9942      9942       9942  ...   9942      9942   9942\n",
              "\n",
              "[10 rows x 11 columns]"
            ]
          },
          "metadata": {
            "tags": []
          },
          "execution_count": 151
        }
      ]
    },
    {
      "cell_type": "code",
      "metadata": {
        "id": "RMx7keEF0_5z",
        "colab_type": "code",
        "outputId": "e3f7ac71-5f0c-4d20-c17d-209a2b11c9d8",
        "colab": {
          "base_uri": "https://localhost:8080/",
          "height": 348
        }
      },
      "source": [
        "polisi = pd.read_csv('https://cocl.us/sanfran_crime_dataset', index_col=0)"
      ],
      "execution_count": 0,
      "outputs": [
        {
          "output_type": "execute_result",
          "data": {
            "text/html": [
              "<div>\n",
              "<style scoped>\n",
              "    .dataframe tbody tr th:only-of-type {\n",
              "        vertical-align: middle;\n",
              "    }\n",
              "\n",
              "    .dataframe tbody tr th {\n",
              "        vertical-align: top;\n",
              "    }\n",
              "\n",
              "    .dataframe thead th {\n",
              "        text-align: right;\n",
              "    }\n",
              "</style>\n",
              "<table border=\"1\" class=\"dataframe\">\n",
              "  <thead>\n",
              "    <tr style=\"text-align: right;\">\n",
              "      <th></th>\n",
              "      <th>Count</th>\n",
              "    </tr>\n",
              "  </thead>\n",
              "  <tbody>\n",
              "    <tr>\n",
              "      <th>SOUTHERN</th>\n",
              "      <td>28445</td>\n",
              "    </tr>\n",
              "    <tr>\n",
              "      <th>NORTHERN</th>\n",
              "      <td>20100</td>\n",
              "    </tr>\n",
              "    <tr>\n",
              "      <th>MISSION</th>\n",
              "      <td>19503</td>\n",
              "    </tr>\n",
              "    <tr>\n",
              "      <th>CENTRAL</th>\n",
              "      <td>17666</td>\n",
              "    </tr>\n",
              "    <tr>\n",
              "      <th>BAYVIEW</th>\n",
              "      <td>14303</td>\n",
              "    </tr>\n",
              "    <tr>\n",
              "      <th>INGLESIDE</th>\n",
              "      <td>11594</td>\n",
              "    </tr>\n",
              "    <tr>\n",
              "      <th>TARAVAL</th>\n",
              "      <td>11325</td>\n",
              "    </tr>\n",
              "    <tr>\n",
              "      <th>TENDERLOIN</th>\n",
              "      <td>9942</td>\n",
              "    </tr>\n",
              "    <tr>\n",
              "      <th>RICHMOND</th>\n",
              "      <td>8922</td>\n",
              "    </tr>\n",
              "    <tr>\n",
              "      <th>PARK</th>\n",
              "      <td>8699</td>\n",
              "    </tr>\n",
              "  </tbody>\n",
              "</table>\n",
              "</div>"
            ],
            "text/plain": [
              "            Count\n",
              "SOUTHERN    28445\n",
              "NORTHERN    20100\n",
              "MISSION     19503\n",
              "CENTRAL     17666\n",
              "BAYVIEW     14303\n",
              "INGLESIDE   11594\n",
              "TARAVAL     11325\n",
              "TENDERLOIN   9942\n",
              "RICHMOND     8922\n",
              "PARK         8699"
            ]
          },
          "metadata": {
            "tags": []
          },
          "execution_count": 152
        }
      ]
    },
    {
      "cell_type": "code",
      "metadata": {
        "id": "6zAff7UtzydP",
        "colab_type": "code",
        "outputId": "aa8e6174-15ff-4dee-8eae-b9ffda9f2d9d",
        "colab": {
          "base_uri": "https://localhost:8080/",
          "height": 217
        }
      },
      "source": [
        "polisi.rename(columns={'PdDistrict':'Neighborhood'}, inplace=True)\n",
        "polisi['Neighborhood'].value_counts()\n",
        "#polisi.sort_values(by='Very interested', ascending=False, inplace=True)\n",
        "#polisi.set_index('Neighborhood')\n",
        "#polisi.series.to_frame()\n",
        "#polisi['Category'].groupby(['Neighborhood']).count()"
      ],
      "execution_count": 0,
      "outputs": [
        {
          "output_type": "execute_result",
          "data": {
            "text/plain": [
              "SOUTHERN      28445\n",
              "NORTHERN      20100\n",
              "MISSION       19503\n",
              "CENTRAL       17666\n",
              "BAYVIEW       14303\n",
              "INGLESIDE     11594\n",
              "TARAVAL       11325\n",
              "TENDERLOIN     9942\n",
              "RICHMOND       8922\n",
              "PARK           8699\n",
              "Name: Neighborhood, dtype: int64"
            ]
          },
          "metadata": {
            "tags": []
          },
          "execution_count": 150
        }
      ]
    },
    {
      "cell_type": "code",
      "metadata": {
        "id": "Bkml43Ll2nnd",
        "colab_type": "code",
        "outputId": "e966f4c3-d094-4e6c-f0f3-8ec869a995ae",
        "colab": {
          "base_uri": "https://localhost:8080/",
          "height": 348
        }
      },
      "source": [
        "crime_data=pd.read_csv('https://cocl.us/sanfran_crime_dataset')\n",
        "\n",
        "t = crime_data.PdDistrict.value_counts()\n",
        "table = pd.DataFrame(data=t.values, index=t.index, columns=['Count'])\n",
        "table.reset_index(inplace = True)\n",
        "table.rename(columns = {'index' : 'Neighborhood'}, inplace = True)\n",
        "\n",
        "table"
      ],
      "execution_count": 0,
      "outputs": [
        {
          "output_type": "execute_result",
          "data": {
            "text/html": [
              "<div>\n",
              "<style scoped>\n",
              "    .dataframe tbody tr th:only-of-type {\n",
              "        vertical-align: middle;\n",
              "    }\n",
              "\n",
              "    .dataframe tbody tr th {\n",
              "        vertical-align: top;\n",
              "    }\n",
              "\n",
              "    .dataframe thead th {\n",
              "        text-align: right;\n",
              "    }\n",
              "</style>\n",
              "<table border=\"1\" class=\"dataframe\">\n",
              "  <thead>\n",
              "    <tr style=\"text-align: right;\">\n",
              "      <th></th>\n",
              "      <th>Neighborhood</th>\n",
              "      <th>Count</th>\n",
              "    </tr>\n",
              "  </thead>\n",
              "  <tbody>\n",
              "    <tr>\n",
              "      <th>0</th>\n",
              "      <td>SOUTHERN</td>\n",
              "      <td>28445</td>\n",
              "    </tr>\n",
              "    <tr>\n",
              "      <th>1</th>\n",
              "      <td>NORTHERN</td>\n",
              "      <td>20100</td>\n",
              "    </tr>\n",
              "    <tr>\n",
              "      <th>2</th>\n",
              "      <td>MISSION</td>\n",
              "      <td>19503</td>\n",
              "    </tr>\n",
              "    <tr>\n",
              "      <th>3</th>\n",
              "      <td>CENTRAL</td>\n",
              "      <td>17666</td>\n",
              "    </tr>\n",
              "    <tr>\n",
              "      <th>4</th>\n",
              "      <td>BAYVIEW</td>\n",
              "      <td>14303</td>\n",
              "    </tr>\n",
              "    <tr>\n",
              "      <th>5</th>\n",
              "      <td>INGLESIDE</td>\n",
              "      <td>11594</td>\n",
              "    </tr>\n",
              "    <tr>\n",
              "      <th>6</th>\n",
              "      <td>TARAVAL</td>\n",
              "      <td>11325</td>\n",
              "    </tr>\n",
              "    <tr>\n",
              "      <th>7</th>\n",
              "      <td>TENDERLOIN</td>\n",
              "      <td>9942</td>\n",
              "    </tr>\n",
              "    <tr>\n",
              "      <th>8</th>\n",
              "      <td>RICHMOND</td>\n",
              "      <td>8922</td>\n",
              "    </tr>\n",
              "    <tr>\n",
              "      <th>9</th>\n",
              "      <td>PARK</td>\n",
              "      <td>8699</td>\n",
              "    </tr>\n",
              "  </tbody>\n",
              "</table>\n",
              "</div>"
            ],
            "text/plain": [
              "  Neighborhood  Count\n",
              "0     SOUTHERN  28445\n",
              "1     NORTHERN  20100\n",
              "2      MISSION  19503\n",
              "3      CENTRAL  17666\n",
              "4      BAYVIEW  14303\n",
              "5    INGLESIDE  11594\n",
              "6      TARAVAL  11325\n",
              "7   TENDERLOIN   9942\n",
              "8     RICHMOND   8922\n",
              "9         PARK   8699"
            ]
          },
          "metadata": {
            "tags": []
          },
          "execution_count": 173
        }
      ]
    },
    {
      "cell_type": "code",
      "metadata": {
        "id": "T-CUWNxM8f24",
        "colab_type": "code",
        "outputId": "e07074a0-beb6-48c1-96a2-6e54962c02bd",
        "colab": {
          "base_uri": "https://localhost:8080/",
          "height": 35
        }
      },
      "source": [
        "!conda install -c conda-forge folium=0.5.0 --yes\n",
        "import folium"
      ],
      "execution_count": 0,
      "outputs": [
        {
          "output_type": "stream",
          "text": [
            "/bin/bash: conda: command not found\n"
          ],
          "name": "stdout"
        }
      ]
    },
    {
      "cell_type": "code",
      "metadata": {
        "id": "o4moLtLduspL",
        "colab_type": "code",
        "outputId": "245f85d9-d99a-450a-c417-29635370eb1e",
        "colab": {
          "base_uri": "https://localhost:8080/",
          "height": 153
        }
      },
      "source": [
        "# let Folium determine the scale.\n",
        "SFO_geo = '/content/san-francisco.geojson'\n",
        "threshold_scale = 1\n",
        "latitude = 37.7749\n",
        "longitude = 122.4194\n",
        "\n",
        "world_map = folium.Map(location=(37.7749, 122.4194), zoom_start=12, tiles='Mapbox Bright')\n",
        "world_map.choropleth(geo_data=SFO_geo, data=polisi, columns=[table['Neighborhood'], tabel['Count'], key_on = 'feature.properties.name',\n",
        "                     threshold_scale = threshold_scale, fill_color='YlOrRd', fill_opacity=0.7, line_opacity=0.2,\n",
        "                     legend_name='San Fransisco - Crime Rate', reset=True\n",
        "                     )\n",
        "world_map"
      ],
      "execution_count": 0,
      "outputs": [
        {
          "output_type": "error",
          "ename": "SyntaxError",
          "evalue": "ignored",
          "traceback": [
            "\u001b[0;36m  File \u001b[0;32m\"<ipython-input-184-99a8daeb5d73>\"\u001b[0;36m, line \u001b[0;32m7\u001b[0m\n\u001b[0;31m    world_map.choropleth(geo_data=SFO_geo, data=polisi, columns=[table['Neighborhood'], tabel['Count'], key_on = 'feature.properties.name',\u001b[0m\n\u001b[0m                                                                                                               ^\u001b[0m\n\u001b[0;31mSyntaxError\u001b[0m\u001b[0;31m:\u001b[0m invalid syntax\n"
          ]
        },
        {
          "output_type": "stream",
          "text": [
            "ERROR! Session/line number was not unique in database. History logging moved to new session 79\n"
          ],
          "name": "stdout"
        }
      ]
    }
  ]
}